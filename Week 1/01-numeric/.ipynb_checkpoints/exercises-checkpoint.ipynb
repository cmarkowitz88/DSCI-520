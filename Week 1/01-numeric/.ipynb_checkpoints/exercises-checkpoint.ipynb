{
 "cells": [
  {
   "cell_type": "markdown",
   "metadata": {},
   "source": [
    "# DSCI 521: Methods for analysis and interpretation <br> Chapter 1: Processing numeric data\n",
    "\n",
    "## Exercises\n",
    "Note: numberings refer to the main notes."
   ]
  },
  {
   "cell_type": "markdown",
   "metadata": {},
   "source": [
    "#### 1.0.2.3 Exercise: Creating a matrix \n",
    "Using the above matrix-generation techniques, create a 2x2 identity matrix."
   ]
  },
  {
   "cell_type": "code",
   "execution_count": 2,
   "metadata": {},
   "outputs": [
    {
     "name": "stdout",
     "output_type": "stream",
     "text": [
      "[[1. 0.]\n",
      " [0. 1.]]\n",
      "[[1. 0.]\n",
      " [0. 1.]]\n"
     ]
    }
   ],
   "source": [
    "import numpy as np\n",
    "\n",
    "identit2 = np.zeros((2,2))\n",
    "\n",
    "for i in range(len(identit2)):\n",
    "    identit2[i,i] = 1\n",
    "\n",
    "print(identit2)\n",
    "print(np.identity(2))"
   ]
  },
  {
   "cell_type": "markdown",
   "metadata": {},
   "source": [
    "#### 1.0.2.5 Exercise: broadcast operations \n",
    "Square each element in the matrix `A` without using any loops."
   ]
  },
  {
   "cell_type": "code",
   "execution_count": 3,
   "metadata": {},
   "outputs": [
    {
     "name": "stdout",
     "output_type": "stream",
     "text": [
      "[ 1  4  9 16 25]\n",
      "[ 1  4  9 16 25]\n"
     ]
    }
   ],
   "source": [
    "A = [1, 2, 3, 4, 5]\n",
    "\n",
    "A = np.array(A)\n",
    "\n",
    "A_squares = A ** 2\n",
    "\n",
    "print(A_squares)\n",
    "\n",
    "A_squares = np.power(A, 2)\n",
    "\n",
    "print(A_squares)"
   ]
  },
  {
   "cell_type": "markdown",
   "metadata": {},
   "source": [
    "#### 1.1.2.2 Exercise: vector arithmetic \n",
    "Calculate `A` - `B` for the provided vectors, without using a loop."
   ]
  },
  {
   "cell_type": "code",
   "execution_count": 4,
   "metadata": {},
   "outputs": [
    {
     "name": "stdout",
     "output_type": "stream",
     "text": [
      "[0, 1, 2, 3, 4]\n",
      "[0, -1, -2, -3, -4]\n",
      "[0 2 4 6 8]\n"
     ]
    }
   ],
   "source": [
    "A = [i for i in range(5)]\n",
    "B = [-i for i in range(5)]\n",
    "\n",
    "print(A)\n",
    "print(B)\n",
    "\n",
    "A = np.array(A)\n",
    "B = np.array(B)\n",
    "\n",
    "print(A - B)"
   ]
  },
  {
   "cell_type": "code",
   "execution_count": 5,
   "metadata": {},
   "outputs": [
    {
     "name": "stdout",
     "output_type": "stream",
     "text": [
      "10.954451150103322 5.477225575051661\n"
     ]
    }
   ],
   "source": [
    "## compute euclidean norm of A - B:\n",
    "print(np.power(sum(np.power(A - B, 2)), 0.5), np.power(sum(np.power(A, 2)), 0.5))"
   ]
  },
  {
   "cell_type": "markdown",
   "metadata": {},
   "source": [
    "#### 1.1.2.5 Exercise: scalar multiplication\n",
    "Divide each element in the above vector `v` by 4."
   ]
  },
  {
   "cell_type": "code",
   "execution_count": 6,
   "metadata": {},
   "outputs": [],
   "source": [
    "# Answer goes here."
   ]
  },
  {
   "cell_type": "markdown",
   "metadata": {},
   "source": [
    "#### 1.1.2.7 Exercise: pointwise vector multiplication \n",
    "Perform pointwise multiplication between `v` divided by 4 which you calculated above, and `u`."
   ]
  },
  {
   "cell_type": "code",
   "execution_count": 7,
   "metadata": {},
   "outputs": [],
   "source": [
    "# Answer goes here."
   ]
  },
  {
   "cell_type": "markdown",
   "metadata": {},
   "source": [
    "#### 1.1.2.9 Exercise: inner products \n",
    "Find the dot product of the provided array `z` with the dot product of `u` and `v`, from above."
   ]
  },
  {
   "cell_type": "code",
   "execution_count": 9,
   "metadata": {},
   "outputs": [
    {
     "name": "stdout",
     "output_type": "stream",
     "text": [
      "48.4\n",
      "0.5463453459922508\n",
      "62.0\n",
      "0.6488679163256584\n"
     ]
    }
   ],
   "source": [
    "z = np.array([1, 2, 3, 4, 5])\n",
    "\n",
    "u = np.array([-5., 3.7, 2., 10., 0.])\n",
    "print(u.dot(z))\n",
    "print(u.dot(z)/(np.linalg.norm(u)*np.linalg.norm(z)))\n",
    "\n",
    "v = np.array([9., 2., 4., 8., 1.])\n",
    "print(v.dot(z))\n",
    "print(v.dot(z)/(np.linalg.norm(v)*np.linalg.norm(z)))"
   ]
  },
  {
   "cell_type": "markdown",
   "metadata": {},
   "source": [
    "#### 1.1.2.11 Exercise: cosine similarity \n",
    "Find the cosine similarity of the vectors `a` and `b`."
   ]
  },
  {
   "cell_type": "code",
   "execution_count": 46,
   "metadata": {},
   "outputs": [],
   "source": [
    "a = np.array([1, 0, 0])\n",
    "b = np.array([0, 1, 0])\n",
    "\n",
    "# Answer goes here"
   ]
  },
  {
   "cell_type": "markdown",
   "metadata": {},
   "source": [
    "#### 1.1.3.3 Exercise: Matrix indexing \n",
    "Print the value in the above matrix `A` located in the bottom-right entry."
   ]
  },
  {
   "cell_type": "code",
   "execution_count": 11,
   "metadata": {},
   "outputs": [
    {
     "name": "stdout",
     "output_type": "stream",
     "text": [
      "10\n"
     ]
    }
   ],
   "source": [
    "A = np.array([\n",
    "    [ 1,  2,  3],\n",
    "    [ 4,  5,  6],\n",
    "    [ 7,  8,  9],\n",
    "    [10, 11, 12]\n",
    "])\n",
    "\n",
    "print(A[-1,0])"
   ]
  },
  {
   "cell_type": "markdown",
   "metadata": {},
   "source": [
    "#### 1.1.4.2 Exercise: matrix addition \n",
    "Using `A` and `B` from above, find the sum `A` + `B` + `A`."
   ]
  },
  {
   "cell_type": "code",
   "execution_count": 15,
   "metadata": {},
   "outputs": [
    {
     "name": "stdout",
     "output_type": "stream",
     "text": [
      "[[ 1  2  3]\n",
      " [ 4  5  6]\n",
      " [ 7  8  9]\n",
      " [10 11 12]] \n",
      "\n",
      "[[11 12 13]\n",
      " [14 15 16]\n",
      " [17 18 19]\n",
      " [20 21 22]] \n",
      "\n",
      "[[13 16 19]\n",
      " [22 25 28]\n",
      " [31 34 37]\n",
      " [40 43 46]] \n",
      "\n",
      " [[13 16 19]\n",
      " [22 25 28]\n",
      " [31 34 37]\n",
      " [40 43 46]]\n"
     ]
    }
   ],
   "source": [
    "## define a 4-row by 3-column matrix\n",
    "A = np.array([\n",
    "    [ 1,  2,  3],\n",
    "    [ 4,  5,  6],\n",
    "    [ 7,  8,  9],\n",
    "    [10, 11, 12]\n",
    "])\n",
    "\n",
    "print(A, '\\n')\n",
    "\n",
    "## define another 4-row by 3-column matrix\n",
    "B = np.array([\n",
    "    [ 11,  12,  13],\n",
    "    [ 14,  15,  16],\n",
    "    [ 17,  18,  19],\n",
    "    [ 20,  21,  22]\n",
    "])\n",
    "\n",
    "print(B, '\\n')\n",
    "\n",
    "## take the matrix sum of the two\n",
    "print(2*A + B, \"\\n\\n\", A + A + B)"
   ]
  },
  {
   "cell_type": "markdown",
   "metadata": {},
   "source": [
    "#### 1.1.4.4 Exercise: Scalar matrix multiplication\n",
    "Divide each element in the above matrix `A` by 4."
   ]
  },
  {
   "cell_type": "code",
   "execution_count": 21,
   "metadata": {},
   "outputs": [
    {
     "name": "stdout",
     "output_type": "stream",
     "text": [
      "(4, 3)\n",
      "[[0.25 0.5  0.75]\n",
      " [1.   1.25 1.5 ]\n",
      " [1.75 2.   2.25]\n",
      " [2.5  2.75 3.  ]]\n"
     ]
    }
   ],
   "source": [
    "A = np.array([\n",
    "    [ 1,  2,  3],\n",
    "    [ 4,  5,  6],\n",
    "    [ 7,  8,  9],\n",
    "    [10, 11, 12]\n",
    "])\n",
    "\n",
    "print(A.shape)\n",
    "print(A/4)"
   ]
  },
  {
   "cell_type": "code",
   "execution_count": null,
   "metadata": {},
   "outputs": [],
   "source": []
  }
 ],
 "metadata": {
  "kernelspec": {
   "display_name": "Python 3",
   "language": "python",
   "name": "python3"
  },
  "language_info": {
   "codemirror_mode": {
    "name": "ipython",
    "version": 3
   },
   "file_extension": ".py",
   "mimetype": "text/x-python",
   "name": "python",
   "nbconvert_exporter": "python",
   "pygments_lexer": "ipython3",
   "version": "3.7.0"
  }
 },
 "nbformat": 4,
 "nbformat_minor": 2
}
